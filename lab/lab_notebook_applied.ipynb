{
 "cells": [
  {
   "cell_type": "markdown",
   "metadata": {
    "vscode": {
     "languageId": "bat"
    }
   },
   "source": [
    "# Hedonic Pricing\n",
    "\n",
    "We often try to predict the price of an asset from its observable characteristics. This is generally called **hedonic pricing**: How do the unit's characteristics determine its market price?\n",
    "\n",
    "In the lab folder, there are three options: housing prices in pierce_county_house_sales.csv, car prices in cars_hw.csv, and airbnb rental prices in airbnb_hw.csv. If you know of another suitable dataset, please feel free to use that one.\n",
    "\n",
    "1. Clean the data and perform some EDA and visualization to get to know the data set.\n"
   ]
  },
  {
   "cell_type": "markdown",
   "metadata": {},
   "source": [
    "2. Transform your variables --- particularly categorical ones --- for use in your regression analysis."
   ]
  },
  {
   "cell_type": "code",
   "execution_count": 205,
   "metadata": {},
   "outputs": [],
   "source": [
    "import pandas as pd\n",
    "import numpy as np\n",
    "import matplotlib.pyplot as plt\n",
    "import seaborn as sns\n",
    "import sklearn"
   ]
  },
  {
   "cell_type": "code",
   "execution_count": 206,
   "metadata": {},
   "outputs": [
    {
     "data": {
      "application/vnd.microsoft.datawrangler.viewer.v0+json": {
       "columns": [
        {
         "name": "index",
         "rawType": "int64",
         "type": "integer"
        },
        {
         "name": "sale_date",
         "rawType": "object",
         "type": "string"
        },
        {
         "name": "sale_price",
         "rawType": "int64",
         "type": "integer"
        },
        {
         "name": "house_square_feet",
         "rawType": "int64",
         "type": "integer"
        },
        {
         "name": "attic_finished_square_feet",
         "rawType": "int64",
         "type": "integer"
        },
        {
         "name": "basement_square_feet",
         "rawType": "int64",
         "type": "integer"
        },
        {
         "name": "attached_garage_square_feet",
         "rawType": "int64",
         "type": "integer"
        },
        {
         "name": "detached_garage_square_feet",
         "rawType": "int64",
         "type": "integer"
        },
        {
         "name": "fireplaces",
         "rawType": "int64",
         "type": "integer"
        },
        {
         "name": "hvac_description",
         "rawType": "object",
         "type": "string"
        },
        {
         "name": "exterior",
         "rawType": "object",
         "type": "string"
        },
        {
         "name": "interior",
         "rawType": "object",
         "type": "string"
        },
        {
         "name": "stories",
         "rawType": "int64",
         "type": "integer"
        },
        {
         "name": "roof_cover",
         "rawType": "object",
         "type": "string"
        },
        {
         "name": "year_built",
         "rawType": "int64",
         "type": "integer"
        },
        {
         "name": "bedrooms",
         "rawType": "int64",
         "type": "integer"
        },
        {
         "name": "bathrooms",
         "rawType": "int64",
         "type": "integer"
        },
        {
         "name": "waterfront_type",
         "rawType": "object",
         "type": "unknown"
        },
        {
         "name": "view_quality",
         "rawType": "object",
         "type": "unknown"
        },
        {
         "name": "utility_sewer",
         "rawType": "object",
         "type": "string"
        }
       ],
       "conversionMethod": "pd.DataFrame",
       "ref": "1d90b3e0-e245-46d1-8aa8-2a0c74adb5c3",
       "rows": [
        [
         "0",
         "2020-01-02",
         "380000",
         "2157",
         "0",
         "0",
         "528",
         "0",
         "0",
         "Warm and Cool Air Zone",
         "Frame Siding",
         "Drywall",
         "2",
         "Composition Shingle",
         "1993",
         "3",
         "3",
         null,
         null,
         "SEWER/SEPTIC INSTALLED"
        ],
        [
         "1",
         "2020-01-02",
         "383000",
         "2238",
         "0",
         "0",
         "396",
         "0",
         "0",
         "Forced Air",
         "Frame Siding",
         "Drywall",
         "2",
         "Composition Shingle",
         "2017",
         "4",
         "3",
         null,
         null,
         "SEWER/SEPTIC INSTALLED"
        ],
        [
         "2",
         "2020-01-01",
         "419900",
         "1452",
         "0",
         "0",
         "0",
         "0",
         "1",
         "Forced Air",
         "Frame Siding",
         "Drywall",
         "1",
         "Built Up Rock",
         "1965",
         "3",
         "2",
         null,
         null,
         "SEWER/SEPTIC INSTALLED"
        ],
        [
         "3",
         "2020-01-02",
         "251660",
         "832",
         "0",
         "0",
         "0",
         "0",
         "0",
         "Forced Air",
         "Frame Vinyl",
         "Drywall",
         "1",
         "Composition Shingle",
         "1919",
         "2",
         "1",
         null,
         null,
         "SEWER/SEPTIC INSTALLED"
        ],
        [
         "4",
         "2020-01-02",
         "500000",
         "1780",
         "0",
         "384",
         "484",
         "0",
         "1",
         "Forced Air",
         "Frame Siding",
         "Drywall",
         "1",
         "Composition Shingle",
         "1955",
         "3",
         "2",
         null,
         null,
         "SEWER/SEPTIC INSTALLED"
        ]
       ],
       "shape": {
        "columns": 19,
        "rows": 5
       }
      },
      "text/html": [
       "<div>\n",
       "<style scoped>\n",
       "    .dataframe tbody tr th:only-of-type {\n",
       "        vertical-align: middle;\n",
       "    }\n",
       "\n",
       "    .dataframe tbody tr th {\n",
       "        vertical-align: top;\n",
       "    }\n",
       "\n",
       "    .dataframe thead th {\n",
       "        text-align: right;\n",
       "    }\n",
       "</style>\n",
       "<table border=\"1\" class=\"dataframe\">\n",
       "  <thead>\n",
       "    <tr style=\"text-align: right;\">\n",
       "      <th></th>\n",
       "      <th>sale_date</th>\n",
       "      <th>sale_price</th>\n",
       "      <th>house_square_feet</th>\n",
       "      <th>attic_finished_square_feet</th>\n",
       "      <th>basement_square_feet</th>\n",
       "      <th>attached_garage_square_feet</th>\n",
       "      <th>detached_garage_square_feet</th>\n",
       "      <th>fireplaces</th>\n",
       "      <th>hvac_description</th>\n",
       "      <th>exterior</th>\n",
       "      <th>interior</th>\n",
       "      <th>stories</th>\n",
       "      <th>roof_cover</th>\n",
       "      <th>year_built</th>\n",
       "      <th>bedrooms</th>\n",
       "      <th>bathrooms</th>\n",
       "      <th>waterfront_type</th>\n",
       "      <th>view_quality</th>\n",
       "      <th>utility_sewer</th>\n",
       "    </tr>\n",
       "  </thead>\n",
       "  <tbody>\n",
       "    <tr>\n",
       "      <th>0</th>\n",
       "      <td>2020-01-02</td>\n",
       "      <td>380000</td>\n",
       "      <td>2157</td>\n",
       "      <td>0</td>\n",
       "      <td>0</td>\n",
       "      <td>528</td>\n",
       "      <td>0</td>\n",
       "      <td>0</td>\n",
       "      <td>Warm and Cool Air Zone</td>\n",
       "      <td>Frame Siding</td>\n",
       "      <td>Drywall</td>\n",
       "      <td>2</td>\n",
       "      <td>Composition Shingle</td>\n",
       "      <td>1993</td>\n",
       "      <td>3</td>\n",
       "      <td>3</td>\n",
       "      <td>NaN</td>\n",
       "      <td>NaN</td>\n",
       "      <td>SEWER/SEPTIC INSTALLED</td>\n",
       "    </tr>\n",
       "    <tr>\n",
       "      <th>1</th>\n",
       "      <td>2020-01-02</td>\n",
       "      <td>383000</td>\n",
       "      <td>2238</td>\n",
       "      <td>0</td>\n",
       "      <td>0</td>\n",
       "      <td>396</td>\n",
       "      <td>0</td>\n",
       "      <td>0</td>\n",
       "      <td>Forced Air</td>\n",
       "      <td>Frame Siding</td>\n",
       "      <td>Drywall</td>\n",
       "      <td>2</td>\n",
       "      <td>Composition Shingle</td>\n",
       "      <td>2017</td>\n",
       "      <td>4</td>\n",
       "      <td>3</td>\n",
       "      <td>NaN</td>\n",
       "      <td>NaN</td>\n",
       "      <td>SEWER/SEPTIC INSTALLED</td>\n",
       "    </tr>\n",
       "    <tr>\n",
       "      <th>2</th>\n",
       "      <td>2020-01-01</td>\n",
       "      <td>419900</td>\n",
       "      <td>1452</td>\n",
       "      <td>0</td>\n",
       "      <td>0</td>\n",
       "      <td>0</td>\n",
       "      <td>0</td>\n",
       "      <td>1</td>\n",
       "      <td>Forced Air</td>\n",
       "      <td>Frame Siding</td>\n",
       "      <td>Drywall</td>\n",
       "      <td>1</td>\n",
       "      <td>Built Up Rock</td>\n",
       "      <td>1965</td>\n",
       "      <td>3</td>\n",
       "      <td>2</td>\n",
       "      <td>NaN</td>\n",
       "      <td>NaN</td>\n",
       "      <td>SEWER/SEPTIC INSTALLED</td>\n",
       "    </tr>\n",
       "    <tr>\n",
       "      <th>3</th>\n",
       "      <td>2020-01-02</td>\n",
       "      <td>251660</td>\n",
       "      <td>832</td>\n",
       "      <td>0</td>\n",
       "      <td>0</td>\n",
       "      <td>0</td>\n",
       "      <td>0</td>\n",
       "      <td>0</td>\n",
       "      <td>Forced Air</td>\n",
       "      <td>Frame Vinyl</td>\n",
       "      <td>Drywall</td>\n",
       "      <td>1</td>\n",
       "      <td>Composition Shingle</td>\n",
       "      <td>1919</td>\n",
       "      <td>2</td>\n",
       "      <td>1</td>\n",
       "      <td>NaN</td>\n",
       "      <td>NaN</td>\n",
       "      <td>SEWER/SEPTIC INSTALLED</td>\n",
       "    </tr>\n",
       "    <tr>\n",
       "      <th>4</th>\n",
       "      <td>2020-01-02</td>\n",
       "      <td>500000</td>\n",
       "      <td>1780</td>\n",
       "      <td>0</td>\n",
       "      <td>384</td>\n",
       "      <td>484</td>\n",
       "      <td>0</td>\n",
       "      <td>1</td>\n",
       "      <td>Forced Air</td>\n",
       "      <td>Frame Siding</td>\n",
       "      <td>Drywall</td>\n",
       "      <td>1</td>\n",
       "      <td>Composition Shingle</td>\n",
       "      <td>1955</td>\n",
       "      <td>3</td>\n",
       "      <td>2</td>\n",
       "      <td>NaN</td>\n",
       "      <td>NaN</td>\n",
       "      <td>SEWER/SEPTIC INSTALLED</td>\n",
       "    </tr>\n",
       "  </tbody>\n",
       "</table>\n",
       "</div>"
      ],
      "text/plain": [
       "    sale_date  sale_price  house_square_feet  attic_finished_square_feet  \\\n",
       "0  2020-01-02      380000               2157                           0   \n",
       "1  2020-01-02      383000               2238                           0   \n",
       "2  2020-01-01      419900               1452                           0   \n",
       "3  2020-01-02      251660                832                           0   \n",
       "4  2020-01-02      500000               1780                           0   \n",
       "\n",
       "   basement_square_feet  attached_garage_square_feet  \\\n",
       "0                     0                          528   \n",
       "1                     0                          396   \n",
       "2                     0                            0   \n",
       "3                     0                            0   \n",
       "4                   384                          484   \n",
       "\n",
       "   detached_garage_square_feet  fireplaces        hvac_description  \\\n",
       "0                            0           0  Warm and Cool Air Zone   \n",
       "1                            0           0              Forced Air   \n",
       "2                            0           1              Forced Air   \n",
       "3                            0           0              Forced Air   \n",
       "4                            0           1              Forced Air   \n",
       "\n",
       "       exterior interior  stories           roof_cover  year_built  bedrooms  \\\n",
       "0  Frame Siding  Drywall        2  Composition Shingle        1993         3   \n",
       "1  Frame Siding  Drywall        2  Composition Shingle        2017         4   \n",
       "2  Frame Siding  Drywall        1        Built Up Rock        1965         3   \n",
       "3   Frame Vinyl  Drywall        1  Composition Shingle        1919         2   \n",
       "4  Frame Siding  Drywall        1  Composition Shingle        1955         3   \n",
       "\n",
       "   bathrooms waterfront_type view_quality           utility_sewer  \n",
       "0          3             NaN          NaN  SEWER/SEPTIC INSTALLED  \n",
       "1          3             NaN          NaN  SEWER/SEPTIC INSTALLED  \n",
       "2          2             NaN          NaN  SEWER/SEPTIC INSTALLED  \n",
       "3          1             NaN          NaN  SEWER/SEPTIC INSTALLED  \n",
       "4          2             NaN          NaN  SEWER/SEPTIC INSTALLED  "
      ]
     },
     "execution_count": 206,
     "metadata": {},
     "output_type": "execute_result"
    }
   ],
   "source": [
    "hp = pd.read_csv('/Users/gracesaunders/Documents/GitHub/linearModels/lab/data/pierce_county_house_sales.csv')\n",
    "hp.head()"
   ]
  },
  {
   "cell_type": "code",
   "execution_count": 207,
   "metadata": {},
   "outputs": [
    {
     "data": {
      "text/plain": [
       "count          16814\n",
       "unique           362\n",
       "top       2020-07-28\n",
       "freq             109\n",
       "Name: sale_date, dtype: object"
      ]
     },
     "execution_count": 207,
     "metadata": {},
     "output_type": "execute_result"
    }
   ],
   "source": [
    "var = 'sale_date'\n",
    "hp[var].describe()\n"
   ]
  },
  {
   "cell_type": "code",
   "execution_count": 208,
   "metadata": {},
   "outputs": [
    {
     "data": {
      "text/plain": [
       "count                            16814\n",
       "mean     2020-07-16 13:34:32.986796544\n",
       "min                2020-01-01 00:00:00\n",
       "25%                2020-04-27 00:00:00\n",
       "50%                2020-07-27 00:00:00\n",
       "75%                2020-10-09 00:00:00\n",
       "max                2020-12-31 00:00:00\n",
       "Name: sale_date, dtype: object"
      ]
     },
     "execution_count": 208,
     "metadata": {},
     "output_type": "execute_result"
    }
   ],
   "source": [
    "hp[var] = pd.to_datetime(hp[var])\n",
    "hp[var].describe()"
   ]
  },
  {
   "cell_type": "code",
   "execution_count": 209,
   "metadata": {},
   "outputs": [
    {
     "data": {
      "text/plain": [
       "<Axes: xlabel='sale_date', ylabel='sale_price'>"
      ]
     },
     "execution_count": 209,
     "metadata": {},
     "output_type": "execute_result"
    },
    {
     "data": {
      "image/png": "[encoded data removed]",
      "text/plain": [
       "<Figure size 640x480 with 1 Axes>"
      ]
     },
     "metadata": {},
     "output_type": "display_data"
    }
   ],
   "source": [
    "# once converted to datetime, .describe() shows the min and max dates - all within the same year, so probably not an issue\n",
    "# but also not a great variable to use for prediction\n",
    "# curious about the distribution of sale prices by time of year though so let's plot that\n",
    "sns.scatterplot(data=hp, x='sale_date', y='sale_price')\n",
    "# no noticeable pattern so I'm moving on"
   ]
  },
  {
   "cell_type": "code",
   "execution_count": 210,
   "metadata": {},
   "outputs": [
    {
     "data": {
      "text/plain": [
       "count    16814.000000\n",
       "mean      1879.941953\n",
       "std        760.419008\n",
       "min          1.000000\n",
       "25%       1320.000000\n",
       "50%       1774.000000\n",
       "75%       2352.000000\n",
       "max       9510.000000\n",
       "Name: house_square_feet, dtype: float64"
      ]
     },
     "execution_count": 210,
     "metadata": {},
     "output_type": "execute_result"
    }
   ],
   "source": [
    "var = 'house_square_feet'\n",
    "hp[var].describe()"
   ]
  },
  {
   "cell_type": "code",
   "execution_count": 211,
   "metadata": {},
   "outputs": [
    {
     "name": "stdout",
     "output_type": "stream",
     "text": [
      "      sale_date  sale_price  house_square_feet  attic_finished_square_feet  \\\n",
      "1506 2020-01-27     1086000                  1                           0   \n",
      "\n",
      "      basement_square_feet  attached_garage_square_feet  \\\n",
      "1506                   384                          440   \n",
      "\n",
      "      detached_garage_square_feet  fireplaces    hvac_description  \\\n",
      "1506                            0           0  Electric Baseboard   \n",
      "\n",
      "                    exterior interior  stories     roof_cover  year_built  \\\n",
      "1506  Masonry Concrete Block  Drywall        1  Built Up Rock        1966   \n",
      "\n",
      "      bedrooms  bathrooms waterfront_type view_quality           utility_sewer  \n",
      "1506         0          1             NaN   View Avg +  SEWER/SEPTIC INSTALLED  \n"
     ]
    }
   ],
   "source": [
    "# min is 1 sq ft, which is odd\n",
    "print(hp[hp[var] == 1])\n",
    "# this seems like a data entry error/mistake, so dropping it\n",
    "hp.drop(hp[hp[var] == 1].index, inplace=True)"
   ]
  },
  {
   "cell_type": "code",
   "execution_count": 212,
   "metadata": {},
   "outputs": [
    {
     "data": {
      "text/plain": [
       "<Axes: xlabel='house_square_feet', ylabel='Count'>"
      ]
     },
     "execution_count": 212,
     "metadata": {},
     "output_type": "execute_result"
    },
    {
     "data": {
      "image/png": "[encoded data removed]",
      "text/plain": [
       "<Figure size 640x480 with 1 Axes>"
      ]
     },
     "metadata": {},
     "output_type": "display_data"
    }
   ],
   "source": [
    "# the new min is 200, which also seems low but isn't impossible so I want to look at the distribution\n",
    "sns.histplot(data=hp, x=var, bins=50)\n",
    "# looks like a fairly normal distribution, but with a long right tail\n"
   ]
  },
  {
   "cell_type": "code",
   "execution_count": 213,
   "metadata": {},
   "outputs": [
    {
     "data": {
      "text/plain": [
       "<Axes: xlabel='house_square_feet'>"
      ]
     },
     "execution_count": 213,
     "metadata": {},
     "output_type": "execute_result"
    },
    {
     "data": {
      "image/png": "[encoded data removed]",
      "text/plain": [
       "<Figure size 640x480 with 1 Axes>"
      ]
     },
     "metadata": {},
     "output_type": "display_data"
    }
   ],
   "source": [
    "sns.boxplot(data=hp, x=var)\n",
    "# there are quite a few outliers - the second whisker is at approximately 4000 sq ft, and the max is over twice that\n"
   ]
  },
  {
   "cell_type": "code",
   "execution_count": 214,
   "metadata": {},
   "outputs": [
    {
     "data": {
      "text/plain": [
       "<Axes: xlabel='log_sqft', ylabel='Count'>"
      ]
     },
     "execution_count": 214,
     "metadata": {},
     "output_type": "execute_result"
    },
    {
     "data": {
      "image/png": "[encoded data removed]",
      "text/plain": [
       "<Figure size 640x480 with 1 Axes>"
      ]
     },
     "metadata": {},
     "output_type": "display_data"
    }
   ],
   "source": [
    "# for this one, I want to use it in my regression but I also don't want to include the huge houses in the model\n",
    "# so I'm going to use a log transformation to reduce the impact of the right skew\n",
    "hp['log_sqft'] = np.log(hp['house_square_feet'])\n",
    "sns.histplot(data=hp, x='log_sqft')\n",
    "# this looks much better - now it looks like a fairly normal distribution"
   ]
  },
  {
   "cell_type": "code",
   "execution_count": 215,
   "metadata": {},
   "outputs": [
    {
     "data": {
      "text/plain": [
       "<Axes: xlabel='log_sqft', ylabel='sale_price'>"
      ]
     },
     "execution_count": 215,
     "metadata": {},
     "output_type": "execute_result"
    },
    {
     "data": {
      "image/png": "[encoded data removed]",
      "text/plain": [
       "<Figure size 640x480 with 1 Axes>"
      ]
     },
     "metadata": {},
     "output_type": "display_data"
    }
   ],
   "source": [
    "# let's look at the correlation with sale price\n",
    "var = 'log_sqft'\n",
    "sns.scatterplot(data=hp, x=var, y='sale_price')"
   ]
  },
  {
   "cell_type": "code",
   "execution_count": 216,
   "metadata": {},
   "outputs": [
    {
     "data": {
      "text/plain": [
       "<Axes: xlabel='log_sqft', ylabel='Density'>"
      ]
     },
     "execution_count": 216,
     "metadata": {},
     "output_type": "execute_result"
    },
    {
     "data": {
      "image/png": "[encoded data removed]",
      "text/plain": [
       "<Figure size 640x480 with 1 Axes>"
      ]
     },
     "metadata": {},
     "output_type": "display_data"
    }
   ],
   "source": [
    "sns.kdeplot(data=hp, x=var)"
   ]
  },
  {
   "cell_type": "code",
   "execution_count": 217,
   "metadata": {},
   "outputs": [
    {
     "data": {
      "application/vnd.microsoft.datawrangler.viewer.v0+json": {
       "columns": [
        {
         "name": "index",
         "rawType": "object",
         "type": "string"
        },
        {
         "name": "attic_finished_square_feet",
         "rawType": "float64",
         "type": "float"
        },
        {
         "name": "basement_square_feet",
         "rawType": "float64",
         "type": "float"
        },
        {
         "name": "attached_garage_square_feet",
         "rawType": "float64",
         "type": "float"
        },
        {
         "name": "detached_garage_square_feet",
         "rawType": "float64",
         "type": "float"
        }
       ],
       "conversionMethod": "pd.DataFrame",
       "ref": "fcf00de1-4678-4762-b269-005dd00762ee",
       "rows": [
        [
         "count",
         "16813.0",
         "16813.0",
         "16813.0",
         "16813.0"
        ],
        [
         "mean",
         "24.94736216023315",
         "167.8400047582228",
         "364.4206268958544",
         "38.30077915898412"
        ],
        [
         "std",
         "102.06927117395277",
         "429.0753545273425",
         "286.4619442003651",
         "164.6961040319689"
        ],
        [
         "min",
         "0.0",
         "0.0",
         "0.0",
         "0.0"
        ],
        [
         "25%",
         "0.0",
         "0.0",
         "0.0",
         "0.0"
        ],
        [
         "50%",
         "0.0",
         "0.0",
         "420.0",
         "0.0"
        ],
        [
         "75%",
         "0.0",
         "0.0",
         "528.0",
         "0.0"
        ],
        [
         "max",
         "1212.0",
         "4000.0",
         "2816.0",
         "3664.0"
        ]
       ],
       "shape": {
        "columns": 4,
        "rows": 8
       }
      },
      "text/html": [
       "<div>\n",
       "<style scoped>\n",
       "    .dataframe tbody tr th:only-of-type {\n",
       "        vertical-align: middle;\n",
       "    }\n",
       "\n",
       "    .dataframe tbody tr th {\n",
       "        vertical-align: top;\n",
       "    }\n",
       "\n",
       "    .dataframe thead th {\n",
       "        text-align: right;\n",
       "    }\n",
       "</style>\n",
       "<table border=\"1\" class=\"dataframe\">\n",
       "  <thead>\n",
       "    <tr style=\"text-align: right;\">\n",
       "      <th></th>\n",
       "      <th>attic_finished_square_feet</th>\n",
       "      <th>basement_square_feet</th>\n",
       "      <th>attached_garage_square_feet</th>\n",
       "      <th>detached_garage_square_feet</th>\n",
       "    </tr>\n",
       "  </thead>\n",
       "  <tbody>\n",
       "    <tr>\n",
       "      <th>count</th>\n",
       "      <td>16813.000000</td>\n",
       "      <td>16813.000000</td>\n",
       "      <td>16813.000000</td>\n",
       "      <td>16813.000000</td>\n",
       "    </tr>\n",
       "    <tr>\n",
       "      <th>mean</th>\n",
       "      <td>24.947362</td>\n",
       "      <td>167.840005</td>\n",
       "      <td>364.420627</td>\n",
       "      <td>38.300779</td>\n",
       "    </tr>\n",
       "    <tr>\n",
       "      <th>std</th>\n",
       "      <td>102.069271</td>\n",
       "      <td>429.075355</td>\n",
       "      <td>286.461944</td>\n",
       "      <td>164.696104</td>\n",
       "    </tr>\n",
       "    <tr>\n",
       "      <th>min</th>\n",
       "      <td>0.000000</td>\n",
       "      <td>0.000000</td>\n",
       "      <td>0.000000</td>\n",
       "      <td>0.000000</td>\n",
       "    </tr>\n",
       "    <tr>\n",
       "      <th>25%</th>\n",
       "      <td>0.000000</td>\n",
       "      <td>0.000000</td>\n",
       "      <td>0.000000</td>\n",
       "      <td>0.000000</td>\n",
       "    </tr>\n",
       "    <tr>\n",
       "      <th>50%</th>\n",
       "      <td>0.000000</td>\n",
       "      <td>0.000000</td>\n",
       "      <td>420.000000</td>\n",
       "      <td>0.000000</td>\n",
       "    </tr>\n",
       "    <tr>\n",
       "      <th>75%</th>\n",
       "      <td>0.000000</td>\n",
       "      <td>0.000000</td>\n",
       "      <td>528.000000</td>\n",
       "      <td>0.000000</td>\n",
       "    </tr>\n",
       "    <tr>\n",
       "      <th>max</th>\n",
       "      <td>1212.000000</td>\n",
       "      <td>4000.000000</td>\n",
       "      <td>2816.000000</td>\n",
       "      <td>3664.000000</td>\n",
       "    </tr>\n",
       "  </tbody>\n",
       "</table>\n",
       "</div>"
      ],
      "text/plain": [
       "       attic_finished_square_feet  basement_square_feet  \\\n",
       "count                16813.000000          16813.000000   \n",
       "mean                    24.947362            167.840005   \n",
       "std                    102.069271            429.075355   \n",
       "min                      0.000000              0.000000   \n",
       "25%                      0.000000              0.000000   \n",
       "50%                      0.000000              0.000000   \n",
       "75%                      0.000000              0.000000   \n",
       "max                   1212.000000           4000.000000   \n",
       "\n",
       "       attached_garage_square_feet  detached_garage_square_feet  \n",
       "count                 16813.000000                 16813.000000  \n",
       "mean                    364.420627                    38.300779  \n",
       "std                     286.461944                   164.696104  \n",
       "min                       0.000000                     0.000000  \n",
       "25%                       0.000000                     0.000000  \n",
       "50%                     420.000000                     0.000000  \n",
       "75%                     528.000000                     0.000000  \n",
       "max                    2816.000000                  3664.000000  "
      ]
     },
     "execution_count": 217,
     "metadata": {},
     "output_type": "execute_result"
    }
   ],
   "source": [
    "extra_space = ['attic_finished_square_feet', 'basement_square_feet', 'attached_garage_square_feet', 'detached_garage_square_feet']\n",
    "hp[extra_space].describe()"
   ]
  },
  {
   "cell_type": "code",
   "execution_count": 218,
   "metadata": {},
   "outputs": [
    {
     "data": {
      "text/plain": [
       "count    16813.000000\n",
       "mean         0.889074\n",
       "std          0.596710\n",
       "min          0.000000\n",
       "25%          1.000000\n",
       "50%          1.000000\n",
       "75%          1.000000\n",
       "max          5.000000\n",
       "Name: fireplaces, dtype: float64"
      ]
     },
     "execution_count": 218,
     "metadata": {},
     "output_type": "execute_result"
    }
   ],
   "source": [
    "hp['fireplaces'].describe()"
   ]
  },
  {
   "cell_type": "code",
   "execution_count": 219,
   "metadata": {},
   "outputs": [],
   "source": [
    "# the columns with missing values (from data wrangler view) are hvac_description, exterior, interior, and roof_cover\n",
    "# each column is missing <1% of the data, so I'm going to drop those rows\n",
    "hp.drop(hp[hp['hvac_description'].isna()].index, inplace=True)\n",
    "hp.drop(hp[hp['exterior'].isna()].index, inplace=True)\n",
    "hp.drop(hp[hp['interior'].isna()].index, inplace=True)\n",
    "hp.drop(hp[hp['roof_cover'].isna()].index, inplace=True)\n"
   ]
  },
  {
   "cell_type": "code",
   "execution_count": 220,
   "metadata": {},
   "outputs": [
    {
     "data": {
      "text/plain": [
       "hvac_description\n",
       "Forced Air                10379\n",
       "Electric Baseboard         2664\n",
       "Heat Pump                  2082\n",
       "Warm and Cool Air Zone     1268\n",
       "Floor/Wall Furnace          174\n",
       "Hot Water Baseboard         146\n",
       "No Heat                      80\n",
       "Electric                      2\n",
       "Floor Wall Furnace            1\n",
       "Name: count, dtype: int64"
      ]
     },
     "execution_count": 220,
     "metadata": {},
     "output_type": "execute_result"
    }
   ],
   "source": [
    "var = 'hvac_description'\n",
    "hp[var].value_counts()"
   ]
  },
  {
   "cell_type": "code",
   "execution_count": 221,
   "metadata": {},
   "outputs": [
    {
     "name": "stderr",
     "output_type": "stream",
     "text": [
      "/var/folders/rs/40ldjcbs0ks2l9sptdb8835c0000gn/T/ipykernel_8713/2802662798.py:1: UserWarning: Dataset has 0 variance; skipping density estimate. Pass `warn_singular=False` to disable this warning.\n",
      "  sns.kdeplot(data=hp, x='sale_price', hue = var)\n"
     ]
    },
    {
     "data": {
      "text/plain": [
       "<Axes: xlabel='sale_price', ylabel='Density'>"
      ]
     },
     "execution_count": 221,
     "metadata": {},
     "output_type": "execute_result"
    },
    {
     "data": {
      "image/png": "[encoded data removed]",
      "text/plain": [
       "<Figure size 640x480 with 1 Axes>"
      ]
     },
     "metadata": {},
     "output_type": "display_data"
    }
   ],
   "source": [
    "sns.kdeplot(data=hp, x='sale_price', hue = var)"
   ]
  },
  {
   "cell_type": "code",
   "execution_count": 232,
   "metadata": {},
   "outputs": [
    {
     "data": {
      "application/vnd.microsoft.datawrangler.viewer.v0+json": {
       "columns": [
        {
         "name": "index",
         "rawType": "int64",
         "type": "integer"
        },
        {
         "name": "sale_date",
         "rawType": "datetime64[ns]",
         "type": "datetime"
        },
        {
         "name": "sale_price",
         "rawType": "int64",
         "type": "integer"
        },
        {
         "name": "house_square_feet",
         "rawType": "int64",
         "type": "integer"
        },
        {
         "name": "attic_finished_square_feet",
         "rawType": "int64",
         "type": "integer"
        },
        {
         "name": "basement_square_feet",
         "rawType": "int64",
         "type": "integer"
        },
        {
         "name": "attached_garage_square_feet",
         "rawType": "int64",
         "type": "integer"
        },
        {
         "name": "detached_garage_square_feet",
         "rawType": "int64",
         "type": "integer"
        },
        {
         "name": "fireplaces",
         "rawType": "int64",
         "type": "integer"
        },
        {
         "name": "exterior",
         "rawType": "object",
         "type": "string"
        },
        {
         "name": "interior",
         "rawType": "object",
         "type": "string"
        },
        {
         "name": "stories",
         "rawType": "int64",
         "type": "integer"
        },
        {
         "name": "roof_cover",
         "rawType": "object",
         "type": "string"
        },
        {
         "name": "year_built",
         "rawType": "int64",
         "type": "integer"
        },
        {
         "name": "bedrooms",
         "rawType": "int64",
         "type": "integer"
        },
        {
         "name": "bathrooms",
         "rawType": "int64",
         "type": "integer"
        },
        {
         "name": "waterfront_type",
         "rawType": "object",
         "type": "unknown"
        },
        {
         "name": "view_quality",
         "rawType": "object",
         "type": "unknown"
        },
        {
         "name": "utility_sewer",
         "rawType": "object",
         "type": "string"
        },
        {
         "name": "log_sqft",
         "rawType": "float64",
         "type": "float"
        },
        {
         "name": "hvac_description_Electric Baseboard",
         "rawType": "bool",
         "type": "boolean"
        },
        {
         "name": "hvac_description_Floor Wall Furnace",
         "rawType": "bool",
         "type": "boolean"
        },
        {
         "name": "hvac_description_Floor/Wall Furnace",
         "rawType": "bool",
         "type": "boolean"
        },
        {
         "name": "hvac_description_Forced Air",
         "rawType": "bool",
         "type": "boolean"
        },
        {
         "name": "hvac_description_Heat Pump",
         "rawType": "bool",
         "type": "boolean"
        },
        {
         "name": "hvac_description_Hot Water Baseboard",
         "rawType": "bool",
         "type": "boolean"
        },
        {
         "name": "hvac_description_No Heat",
         "rawType": "bool",
         "type": "boolean"
        },
        {
         "name": "hvac_description_Warm and Cool Air Zone",
         "rawType": "bool",
         "type": "boolean"
        }
       ],
       "conversionMethod": "pd.DataFrame",
       "ref": "635fa782-2ada-485e-abb2-09acf262e129",
       "rows": [
        [
         "0",
         "2020-01-02 00:00:00",
         "380000",
         "2157",
         "0",
         "0",
         "528",
         "0",
         "0",
         "Frame Siding",
         "Drywall",
         "2",
         "Composition Shingle",
         "1993",
         "3",
         "3",
         null,
         null,
         "SEWER/SEPTIC INSTALLED",
         "7.676473646389156",
         "False",
         "False",
         "False",
         "False",
         "False",
         "False",
         "False",
         "True"
        ],
        [
         "1",
         "2020-01-02 00:00:00",
         "383000",
         "2238",
         "0",
         "0",
         "396",
         "0",
         "0",
         "Frame Siding",
         "Drywall",
         "2",
         "Composition Shingle",
         "2017",
         "4",
         "3",
         null,
         null,
         "SEWER/SEPTIC INSTALLED",
         "7.71333788887187",
         "False",
         "False",
         "False",
         "True",
         "False",
         "False",
         "False",
         "False"
        ],
        [
         "2",
         "2020-01-01 00:00:00",
         "419900",
         "1452",
         "0",
         "0",
         "0",
         "0",
         "1",
         "Frame Siding",
         "Drywall",
         "1",
         "Built Up Rock",
         "1965",
         "3",
         "2",
         null,
         null,
         "SEWER/SEPTIC INSTALLED",
         "7.280697195384741",
         "False",
         "False",
         "False",
         "True",
         "False",
         "False",
         "False",
         "False"
        ],
        [
         "3",
         "2020-01-02 00:00:00",
         "251660",
         "832",
         "0",
         "0",
         "0",
         "0",
         "0",
         "Frame Vinyl",
         "Drywall",
         "1",
         "Composition Shingle",
         "1919",
         "2",
         "1",
         null,
         null,
         "SEWER/SEPTIC INSTALLED",
         "6.723832440821209",
         "False",
         "False",
         "False",
         "True",
         "False",
         "False",
         "False",
         "False"
        ],
        [
         "4",
         "2020-01-02 00:00:00",
         "500000",
         "1780",
         "0",
         "384",
         "484",
         "0",
         "1",
         "Frame Siding",
         "Drywall",
         "1",
         "Composition Shingle",
         "1955",
         "3",
         "2",
         null,
         null,
         "SEWER/SEPTIC INSTALLED",
         "7.484368643286131",
         "False",
         "False",
         "False",
         "True",
         "False",
         "False",
         "False",
         "False"
        ]
       ],
       "shape": {
        "columns": 27,
        "rows": 5
       }
      },
      "text/html": [
       "<div>\n",
       "<style scoped>\n",
       "    .dataframe tbody tr th:only-of-type {\n",
       "        vertical-align: middle;\n",
       "    }\n",
       "\n",
       "    .dataframe tbody tr th {\n",
       "        vertical-align: top;\n",
       "    }\n",
       "\n",
       "    .dataframe thead th {\n",
       "        text-align: right;\n",
       "    }\n",
       "</style>\n",
       "<table border=\"1\" class=\"dataframe\">\n",
       "  <thead>\n",
       "    <tr style=\"text-align: right;\">\n",
       "      <th></th>\n",
       "      <th>sale_date</th>\n",
       "      <th>sale_price</th>\n",
       "      <th>house_square_feet</th>\n",
       "      <th>attic_finished_square_feet</th>\n",
       "      <th>basement_square_feet</th>\n",
       "      <th>attached_garage_square_feet</th>\n",
       "      <th>detached_garage_square_feet</th>\n",
       "      <th>fireplaces</th>\n",
       "      <th>exterior</th>\n",
       "      <th>interior</th>\n",
       "      <th>...</th>\n",
       "      <th>utility_sewer</th>\n",
       "      <th>log_sqft</th>\n",
       "      <th>hvac_description_Electric Baseboard</th>\n",
       "      <th>hvac_description_Floor Wall Furnace</th>\n",
       "      <th>hvac_description_Floor/Wall Furnace</th>\n",
       "      <th>hvac_description_Forced Air</th>\n",
       "      <th>hvac_description_Heat Pump</th>\n",
       "      <th>hvac_description_Hot Water Baseboard</th>\n",
       "      <th>hvac_description_No Heat</th>\n",
       "      <th>hvac_description_Warm and Cool Air Zone</th>\n",
       "    </tr>\n",
       "  </thead>\n",
       "  <tbody>\n",
       "    <tr>\n",
       "      <th>0</th>\n",
       "      <td>2020-01-02</td>\n",
       "      <td>380000</td>\n",
       "      <td>2157</td>\n",
       "      <td>0</td>\n",
       "      <td>0</td>\n",
       "      <td>528</td>\n",
       "      <td>0</td>\n",
       "      <td>0</td>\n",
       "      <td>Frame Siding</td>\n",
       "      <td>Drywall</td>\n",
       "      <td>...</td>\n",
       "      <td>SEWER/SEPTIC INSTALLED</td>\n",
       "      <td>7.676474</td>\n",
       "      <td>False</td>\n",
       "      <td>False</td>\n",
       "      <td>False</td>\n",
       "      <td>False</td>\n",
       "      <td>False</td>\n",
       "      <td>False</td>\n",
       "      <td>False</td>\n",
       "      <td>True</td>\n",
       "    </tr>\n",
       "    <tr>\n",
       "      <th>1</th>\n",
       "      <td>2020-01-02</td>\n",
       "      <td>383000</td>\n",
       "      <td>2238</td>\n",
       "      <td>0</td>\n",
       "      <td>0</td>\n",
       "      <td>396</td>\n",
       "      <td>0</td>\n",
       "      <td>0</td>\n",
       "      <td>Frame Siding</td>\n",
       "      <td>Drywall</td>\n",
       "      <td>...</td>\n",
       "      <td>SEWER/SEPTIC INSTALLED</td>\n",
       "      <td>7.713338</td>\n",
       "      <td>False</td>\n",
       "      <td>False</td>\n",
       "      <td>False</td>\n",
       "      <td>True</td>\n",
       "      <td>False</td>\n",
       "      <td>False</td>\n",
       "      <td>False</td>\n",
       "      <td>False</td>\n",
       "    </tr>\n",
       "    <tr>\n",
       "      <th>2</th>\n",
       "      <td>2020-01-01</td>\n",
       "      <td>419900</td>\n",
       "      <td>1452</td>\n",
       "      <td>0</td>\n",
       "      <td>0</td>\n",
       "      <td>0</td>\n",
       "      <td>0</td>\n",
       "      <td>1</td>\n",
       "      <td>Frame Siding</td>\n",
       "      <td>Drywall</td>\n",
       "      <td>...</td>\n",
       "      <td>SEWER/SEPTIC INSTALLED</td>\n",
       "      <td>7.280697</td>\n",
       "      <td>False</td>\n",
       "      <td>False</td>\n",
       "      <td>False</td>\n",
       "      <td>True</td>\n",
       "      <td>False</td>\n",
       "      <td>False</td>\n",
       "      <td>False</td>\n",
       "      <td>False</td>\n",
       "    </tr>\n",
       "    <tr>\n",
       "      <th>3</th>\n",
       "      <td>2020-01-02</td>\n",
       "      <td>251660</td>\n",
       "      <td>832</td>\n",
       "      <td>0</td>\n",
       "      <td>0</td>\n",
       "      <td>0</td>\n",
       "      <td>0</td>\n",
       "      <td>0</td>\n",
       "      <td>Frame Vinyl</td>\n",
       "      <td>Drywall</td>\n",
       "      <td>...</td>\n",
       "      <td>SEWER/SEPTIC INSTALLED</td>\n",
       "      <td>6.723832</td>\n",
       "      <td>False</td>\n",
       "      <td>False</td>\n",
       "      <td>False</td>\n",
       "      <td>True</td>\n",
       "      <td>False</td>\n",
       "      <td>False</td>\n",
       "      <td>False</td>\n",
       "      <td>False</td>\n",
       "    </tr>\n",
       "    <tr>\n",
       "      <th>4</th>\n",
       "      <td>2020-01-02</td>\n",
       "      <td>500000</td>\n",
       "      <td>1780</td>\n",
       "      <td>0</td>\n",
       "      <td>384</td>\n",
       "      <td>484</td>\n",
       "      <td>0</td>\n",
       "      <td>1</td>\n",
       "      <td>Frame Siding</td>\n",
       "      <td>Drywall</td>\n",
       "      <td>...</td>\n",
       "      <td>SEWER/SEPTIC INSTALLED</td>\n",
       "      <td>7.484369</td>\n",
       "      <td>False</td>\n",
       "      <td>False</td>\n",
       "      <td>False</td>\n",
       "      <td>True</td>\n",
       "      <td>False</td>\n",
       "      <td>False</td>\n",
       "      <td>False</td>\n",
       "      <td>False</td>\n",
       "    </tr>\n",
       "  </tbody>\n",
       "</table>\n",
       "<p>5 rows × 27 columns</p>\n",
       "</div>"
      ],
      "text/plain": [
       "   sale_date  sale_price  house_square_feet  attic_finished_square_feet  \\\n",
       "0 2020-01-02      380000               2157                           0   \n",
       "1 2020-01-02      383000               2238                           0   \n",
       "2 2020-01-01      419900               1452                           0   \n",
       "3 2020-01-02      251660                832                           0   \n",
       "4 2020-01-02      500000               1780                           0   \n",
       "\n",
       "   basement_square_feet  attached_garage_square_feet  \\\n",
       "0                     0                          528   \n",
       "1                     0                          396   \n",
       "2                     0                            0   \n",
       "3                     0                            0   \n",
       "4                   384                          484   \n",
       "\n",
       "   detached_garage_square_feet  fireplaces      exterior interior  ...  \\\n",
       "0                            0           0  Frame Siding  Drywall  ...   \n",
       "1                            0           0  Frame Siding  Drywall  ...   \n",
       "2                            0           1  Frame Siding  Drywall  ...   \n",
       "3                            0           0   Frame Vinyl  Drywall  ...   \n",
       "4                            0           1  Frame Siding  Drywall  ...   \n",
       "\n",
       "            utility_sewer  log_sqft  hvac_description_Electric Baseboard  \\\n",
       "0  SEWER/SEPTIC INSTALLED  7.676474                                False   \n",
       "1  SEWER/SEPTIC INSTALLED  7.713338                                False   \n",
       "2  SEWER/SEPTIC INSTALLED  7.280697                                False   \n",
       "3  SEWER/SEPTIC INSTALLED  6.723832                                False   \n",
       "4  SEWER/SEPTIC INSTALLED  7.484369                                False   \n",
       "\n",
       "   hvac_description_Floor Wall Furnace  hvac_description_Floor/Wall Furnace  \\\n",
       "0                                False                                False   \n",
       "1                                False                                False   \n",
       "2                                False                                False   \n",
       "3                                False                                False   \n",
       "4                                False                                False   \n",
       "\n",
       "  hvac_description_Forced Air hvac_description_Heat Pump  \\\n",
       "0                       False                      False   \n",
       "1                        True                      False   \n",
       "2                        True                      False   \n",
       "3                        True                      False   \n",
       "4                        True                      False   \n",
       "\n",
       "  hvac_description_Hot Water Baseboard  hvac_description_No Heat  \\\n",
       "0                                False                     False   \n",
       "1                                False                     False   \n",
       "2                                False                     False   \n",
       "3                                False                     False   \n",
       "4                                False                     False   \n",
       "\n",
       "   hvac_description_Warm and Cool Air Zone  \n",
       "0                                     True  \n",
       "1                                    False  \n",
       "2                                    False  \n",
       "3                                    False  \n",
       "4                                    False  \n",
       "\n",
       "[5 rows x 27 columns]"
      ]
     },
     "execution_count": 232,
     "metadata": {},
     "output_type": "execute_result"
    }
   ],
   "source": [
    "dummies = pd.get_dummies(hp, columns=['hvac_description'], drop_first=True)\n",
    "dummies.head()"
   ]
  },
  {
   "cell_type": "code",
   "execution_count": 234,
   "metadata": {},
   "outputs": [],
   "source": [
    "dummies = pd.get_dummies(hp, columns=['exterior'], drop_first=True)\n",
    "dummies = pd.get_dummies(hp, columns=['interior'], drop_first=True)"
   ]
  },
  {
   "cell_type": "code",
   "execution_count": 235,
   "metadata": {},
   "outputs": [
    {
     "data": {
      "application/vnd.microsoft.datawrangler.viewer.v0+json": {
       "columns": [
        {
         "name": "index",
         "rawType": "int64",
         "type": "integer"
        },
        {
         "name": "sale_date",
         "rawType": "datetime64[ns]",
         "type": "datetime"
        },
        {
         "name": "sale_price",
         "rawType": "int64",
         "type": "integer"
        },
        {
         "name": "house_square_feet",
         "rawType": "int64",
         "type": "integer"
        },
        {
         "name": "attic_finished_square_feet",
         "rawType": "int64",
         "type": "integer"
        },
        {
         "name": "basement_square_feet",
         "rawType": "int64",
         "type": "integer"
        },
        {
         "name": "attached_garage_square_feet",
         "rawType": "int64",
         "type": "integer"
        },
        {
         "name": "detached_garage_square_feet",
         "rawType": "int64",
         "type": "integer"
        },
        {
         "name": "fireplaces",
         "rawType": "int64",
         "type": "integer"
        },
        {
         "name": "hvac_description",
         "rawType": "object",
         "type": "string"
        },
        {
         "name": "exterior",
         "rawType": "object",
         "type": "string"
        },
        {
         "name": "stories",
         "rawType": "int64",
         "type": "integer"
        },
        {
         "name": "roof_cover",
         "rawType": "object",
         "type": "string"
        },
        {
         "name": "year_built",
         "rawType": "int64",
         "type": "integer"
        },
        {
         "name": "bedrooms",
         "rawType": "int64",
         "type": "integer"
        },
        {
         "name": "bathrooms",
         "rawType": "int64",
         "type": "integer"
        },
        {
         "name": "waterfront_type",
         "rawType": "object",
         "type": "unknown"
        },
        {
         "name": "view_quality",
         "rawType": "object",
         "type": "unknown"
        },
        {
         "name": "utility_sewer",
         "rawType": "object",
         "type": "string"
        },
        {
         "name": "log_sqft",
         "rawType": "float64",
         "type": "float"
        },
        {
         "name": "interior_Paneling",
         "rawType": "bool",
         "type": "boolean"
        }
       ],
       "conversionMethod": "pd.DataFrame",
       "ref": "8e065a97-db04-4336-8c27-a2cf1edc2bf7",
       "rows": [
        [
         "0",
         "2020-01-02 00:00:00",
         "380000",
         "2157",
         "0",
         "0",
         "528",
         "0",
         "0",
         "Warm and Cool Air Zone",
         "Frame Siding",
         "2",
         "Composition Shingle",
         "1993",
         "3",
         "3",
         null,
         null,
         "SEWER/SEPTIC INSTALLED",
         "7.676473646389156",
         "False"
        ],
        [
         "1",
         "2020-01-02 00:00:00",
         "383000",
         "2238",
         "0",
         "0",
         "396",
         "0",
         "0",
         "Forced Air",
         "Frame Siding",
         "2",
         "Composition Shingle",
         "2017",
         "4",
         "3",
         null,
         null,
         "SEWER/SEPTIC INSTALLED",
         "7.71333788887187",
         "False"
        ],
        [
         "2",
         "2020-01-01 00:00:00",
         "419900",
         "1452",
         "0",
         "0",
         "0",
         "0",
         "1",
         "Forced Air",
         "Frame Siding",
         "1",
         "Built Up Rock",
         "1965",
         "3",
         "2",
         null,
         null,
         "SEWER/SEPTIC INSTALLED",
         "7.280697195384741",
         "False"
        ],
        [
         "3",
         "2020-01-02 00:00:00",
         "251660",
         "832",
         "0",
         "0",
         "0",
         "0",
         "0",
         "Forced Air",
         "Frame Vinyl",
         "1",
         "Composition Shingle",
         "1919",
         "2",
         "1",
         null,
         null,
         "SEWER/SEPTIC INSTALLED",
         "6.723832440821209",
         "False"
        ],
        [
         "4",
         "2020-01-02 00:00:00",
         "500000",
         "1780",
         "0",
         "384",
         "484",
         "0",
         "1",
         "Forced Air",
         "Frame Siding",
         "1",
         "Composition Shingle",
         "1955",
         "3",
         "2",
         null,
         null,
         "SEWER/SEPTIC INSTALLED",
         "7.484368643286131",
         "False"
        ]
       ],
       "shape": {
        "columns": 20,
        "rows": 5
       }
      },
      "text/html": [
       "<div>\n",
       "<style scoped>\n",
       "    .dataframe tbody tr th:only-of-type {\n",
       "        vertical-align: middle;\n",
       "    }\n",
       "\n",
       "    .dataframe tbody tr th {\n",
       "        vertical-align: top;\n",
       "    }\n",
       "\n",
       "    .dataframe thead th {\n",
       "        text-align: right;\n",
       "    }\n",
       "</style>\n",
       "<table border=\"1\" class=\"dataframe\">\n",
       "  <thead>\n",
       "    <tr style=\"text-align: right;\">\n",
       "      <th></th>\n",
       "      <th>sale_date</th>\n",
       "      <th>sale_price</th>\n",
       "      <th>house_square_feet</th>\n",
       "      <th>attic_finished_square_feet</th>\n",
       "      <th>basement_square_feet</th>\n",
       "      <th>attached_garage_square_feet</th>\n",
       "      <th>detached_garage_square_feet</th>\n",
       "      <th>fireplaces</th>\n",
       "      <th>hvac_description</th>\n",
       "      <th>exterior</th>\n",
       "      <th>stories</th>\n",
       "      <th>roof_cover</th>\n",
       "      <th>year_built</th>\n",
       "      <th>bedrooms</th>\n",
       "      <th>bathrooms</th>\n",
       "      <th>waterfront_type</th>\n",
       "      <th>view_quality</th>\n",
       "      <th>utility_sewer</th>\n",
       "      <th>log_sqft</th>\n",
       "      <th>interior_Paneling</th>\n",
       "    </tr>\n",
       "  </thead>\n",
       "  <tbody>\n",
       "    <tr>\n",
       "      <th>0</th>\n",
       "      <td>2020-01-02</td>\n",
       "      <td>380000</td>\n",
       "      <td>2157</td>\n",
       "      <td>0</td>\n",
       "      <td>0</td>\n",
       "      <td>528</td>\n",
       "      <td>0</td>\n",
       "      <td>0</td>\n",
       "      <td>Warm and Cool Air Zone</td>\n",
       "      <td>Frame Siding</td>\n",
       "      <td>2</td>\n",
       "      <td>Composition Shingle</td>\n",
       "      <td>1993</td>\n",
       "      <td>3</td>\n",
       "      <td>3</td>\n",
       "      <td>NaN</td>\n",
       "      <td>NaN</td>\n",
       "      <td>SEWER/SEPTIC INSTALLED</td>\n",
       "      <td>7.676474</td>\n",
       "      <td>False</td>\n",
       "    </tr>\n",
       "    <tr>\n",
       "      <th>1</th>\n",
       "      <td>2020-01-02</td>\n",
       "      <td>383000</td>\n",
       "      <td>2238</td>\n",
       "      <td>0</td>\n",
       "      <td>0</td>\n",
       "      <td>396</td>\n",
       "      <td>0</td>\n",
       "      <td>0</td>\n",
       "      <td>Forced Air</td>\n",
       "      <td>Frame Siding</td>\n",
       "      <td>2</td>\n",
       "      <td>Composition Shingle</td>\n",
       "      <td>2017</td>\n",
       "      <td>4</td>\n",
       "      <td>3</td>\n",
       "      <td>NaN</td>\n",
       "      <td>NaN</td>\n",
       "      <td>SEWER/SEPTIC INSTALLED</td>\n",
       "      <td>7.713338</td>\n",
       "      <td>False</td>\n",
       "    </tr>\n",
       "    <tr>\n",
       "      <th>2</th>\n",
       "      <td>2020-01-01</td>\n",
       "      <td>419900</td>\n",
       "      <td>1452</td>\n",
       "      <td>0</td>\n",
       "      <td>0</td>\n",
       "      <td>0</td>\n",
       "      <td>0</td>\n",
       "      <td>1</td>\n",
       "      <td>Forced Air</td>\n",
       "      <td>Frame Siding</td>\n",
       "      <td>1</td>\n",
       "      <td>Built Up Rock</td>\n",
       "      <td>1965</td>\n",
       "      <td>3</td>\n",
       "      <td>2</td>\n",
       "      <td>NaN</td>\n",
       "      <td>NaN</td>\n",
       "      <td>SEWER/SEPTIC INSTALLED</td>\n",
       "      <td>7.280697</td>\n",
       "      <td>False</td>\n",
       "    </tr>\n",
       "    <tr>\n",
       "      <th>3</th>\n",
       "      <td>2020-01-02</td>\n",
       "      <td>251660</td>\n",
       "      <td>832</td>\n",
       "      <td>0</td>\n",
       "      <td>0</td>\n",
       "      <td>0</td>\n",
       "      <td>0</td>\n",
       "      <td>0</td>\n",
       "      <td>Forced Air</td>\n",
       "      <td>Frame Vinyl</td>\n",
       "      <td>1</td>\n",
       "      <td>Composition Shingle</td>\n",
       "      <td>1919</td>\n",
       "      <td>2</td>\n",
       "      <td>1</td>\n",
       "      <td>NaN</td>\n",
       "      <td>NaN</td>\n",
       "      <td>SEWER/SEPTIC INSTALLED</td>\n",
       "      <td>6.723832</td>\n",
       "      <td>False</td>\n",
       "    </tr>\n",
       "    <tr>\n",
       "      <th>4</th>\n",
       "      <td>2020-01-02</td>\n",
       "      <td>500000</td>\n",
       "      <td>1780</td>\n",
       "      <td>0</td>\n",
       "      <td>384</td>\n",
       "      <td>484</td>\n",
       "      <td>0</td>\n",
       "      <td>1</td>\n",
       "      <td>Forced Air</td>\n",
       "      <td>Frame Siding</td>\n",
       "      <td>1</td>\n",
       "      <td>Composition Shingle</td>\n",
       "      <td>1955</td>\n",
       "      <td>3</td>\n",
       "      <td>2</td>\n",
       "      <td>NaN</td>\n",
       "      <td>NaN</td>\n",
       "      <td>SEWER/SEPTIC INSTALLED</td>\n",
       "      <td>7.484369</td>\n",
       "      <td>False</td>\n",
       "    </tr>\n",
       "  </tbody>\n",
       "</table>\n",
       "</div>"
      ],
      "text/plain": [
       "   sale_date  sale_price  house_square_feet  attic_finished_square_feet  \\\n",
       "0 2020-01-02      380000               2157                           0   \n",
       "1 2020-01-02      383000               2238                           0   \n",
       "2 2020-01-01      419900               1452                           0   \n",
       "3 2020-01-02      251660                832                           0   \n",
       "4 2020-01-02      500000               1780                           0   \n",
       "\n",
       "   basement_square_feet  attached_garage_square_feet  \\\n",
       "0                     0                          528   \n",
       "1                     0                          396   \n",
       "2                     0                            0   \n",
       "3                     0                            0   \n",
       "4                   384                          484   \n",
       "\n",
       "   detached_garage_square_feet  fireplaces        hvac_description  \\\n",
       "0                            0           0  Warm and Cool Air Zone   \n",
       "1                            0           0              Forced Air   \n",
       "2                            0           1              Forced Air   \n",
       "3                            0           0              Forced Air   \n",
       "4                            0           1              Forced Air   \n",
       "\n",
       "       exterior  stories           roof_cover  year_built  bedrooms  \\\n",
       "0  Frame Siding        2  Composition Shingle        1993         3   \n",
       "1  Frame Siding        2  Composition Shingle        2017         4   \n",
       "2  Frame Siding        1        Built Up Rock        1965         3   \n",
       "3   Frame Vinyl        1  Composition Shingle        1919         2   \n",
       "4  Frame Siding        1  Composition Shingle        1955         3   \n",
       "\n",
       "   bathrooms waterfront_type view_quality           utility_sewer  log_sqft  \\\n",
       "0          3             NaN          NaN  SEWER/SEPTIC INSTALLED  7.676474   \n",
       "1          3             NaN          NaN  SEWER/SEPTIC INSTALLED  7.713338   \n",
       "2          2             NaN          NaN  SEWER/SEPTIC INSTALLED  7.280697   \n",
       "3          1             NaN          NaN  SEWER/SEPTIC INSTALLED  6.723832   \n",
       "4          2             NaN          NaN  SEWER/SEPTIC INSTALLED  7.484369   \n",
       "\n",
       "   interior_Paneling  \n",
       "0              False  \n",
       "1              False  \n",
       "2              False  \n",
       "3              False  \n",
       "4              False  "
      ]
     },
     "execution_count": 235,
     "metadata": {},
     "output_type": "execute_result"
    }
   ],
   "source": [
    "dummies.head()"
   ]
  },
  {
   "cell_type": "code",
   "execution_count": 230,
   "metadata": {},
   "outputs": [
    {
     "data": {
      "text/plain": [
       "sale_date                          0\n",
       "sale_price                         0\n",
       "house_square_feet                  0\n",
       "attic_finished_square_feet         0\n",
       "basement_square_feet               0\n",
       "attached_garage_square_feet        0\n",
       "detached_garage_square_feet        0\n",
       "fireplaces                         0\n",
       "hvac_description                   0\n",
       "exterior                           0\n",
       "interior                           0\n",
       "stories                            0\n",
       "roof_cover                         0\n",
       "year_built                         0\n",
       "bedrooms                           0\n",
       "bathrooms                          0\n",
       "waterfront_type                16218\n",
       "view_quality                   15852\n",
       "utility_sewer                      0\n",
       "log_sqft                           0\n",
       "dtype: int64"
      ]
     },
     "execution_count": 230,
     "metadata": {},
     "output_type": "execute_result"
    }
   ],
   "source": [
    "hp.describe()\n",
    "hp.isna().sum()"
   ]
  },
  {
   "cell_type": "code",
   "execution_count": 226,
   "metadata": {},
   "outputs": [
    {
     "data": {
      "text/plain": [
       "<Axes: xlabel='stories', ylabel='sale_price'>"
      ]
     },
     "execution_count": 226,
     "metadata": {},
     "output_type": "execute_result"
    },
    {
     "data": {
      "image/png": "[encoded data removed]",
      "text/plain": [
       "<Figure size 640x480 with 1 Axes>"
      ]
     },
     "metadata": {},
     "output_type": "display_data"
    }
   ],
   "source": [
    "var = 'stories'\n",
    "sns.scatterplot(data=hp, x=var, y='sale_price')"
   ]
  },
  {
   "cell_type": "code",
   "execution_count": 227,
   "metadata": {},
   "outputs": [
    {
     "data": {
      "text/plain": [
       "<Axes: xlabel='stories', ylabel='sale_price'>"
      ]
     },
     "execution_count": 227,
     "metadata": {},
     "output_type": "execute_result"
    },
    {
     "data": {
      "image/png": "[encoded data removed]",
      "text/plain": [
       "<Figure size 640x480 with 1 Axes>"
      ]
     },
     "metadata": {},
     "output_type": "display_data"
    }
   ],
   "source": [
    "sns.boxplot(data=hp, x=var, y='sale_price')"
   ]
  },
  {
   "cell_type": "code",
   "execution_count": 228,
   "metadata": {},
   "outputs": [],
   "source": [
    "# it's interesting that 3 story houses are cheapter than 2 story houses, and I also don't know what a 0 story house is\n",
    "hp[var].value_counts()\n",
    "# there aren't many 0 story houses compared to the overall dataset\n",
    "# so I'm thinking this may have been a data entry error or a weird imputation for missing values\n",
    "# and I'm going to drop them\n",
    "hp.drop(hp[hp['stories'] == 0].index, inplace=True)"
   ]
  },
  {
   "cell_type": "code",
   "execution_count": 229,
   "metadata": {},
   "outputs": [],
   "source": [
    "dummias = pd.get_dummies(hp, columns=['roof_cover'], drop_first=True)"
   ]
  },
  {
   "cell_type": "code",
   "execution_count": 194,
   "metadata": {},
   "outputs": [
    {
     "name": "stderr",
     "output_type": "stream",
     "text": [
      "/var/folders/rs/40ldjcbs0ks2l9sptdb8835c0000gn/T/ipykernel_8713/2775265273.py:1: FutureWarning: A value is trying to be set on a copy of a DataFrame or Series through chained assignment using an inplace method.\n",
      "The behavior will change in pandas 3.0. This inplace method will never work because the intermediate object on which we are setting values always behaves as a copy.\n",
      "\n",
      "For example, when doing 'df[col].method(value, inplace=True)', try using 'df.method({col: value}, inplace=True)' or df[col] = df[col].method(value) instead, to perform the operation inplace on the original object.\n",
      "\n",
      "\n",
      "  hp['waterfront_type'].fillna('Not_Waterfront', inplace=True)\n"
     ]
    }
   ],
   "source": [
    "hp['waterfront_type'].fillna('Not_Waterfront', inplace=True)\n",
    "d_water = pd.get_dummies(hp, columns=['waterfront_type'], drop_first=True)  \n"
   ]
  },
  {
   "cell_type": "code",
   "execution_count": 195,
   "metadata": {},
   "outputs": [
    {
     "data": {
      "text/plain": [
       "utility_sewer\n",
       "SEWER/SEPTIC INSTALLED    16720\n",
       "SEWER/SEPTIC NO              21\n",
       "SEWER/SEPTIC AVAIL           21\n",
       "SEWER AVAILABLE               3\n",
       "SEWER/SEPTIC NO PERC          1\n",
       "Name: count, dtype: int64"
      ]
     },
     "execution_count": 195,
     "metadata": {},
     "output_type": "execute_result"
    }
   ],
   "source": [
    "# view quality is 95% missing (from data wrangler view), so I'm not going to use it in my model \n",
    "var = 'utility_sewer'\n",
    "hp[var].value_counts()"
   ]
  },
  {
   "cell_type": "code",
   "execution_count": 196,
   "metadata": {},
   "outputs": [
    {
     "name": "stderr",
     "output_type": "stream",
     "text": [
      "/var/folders/rs/40ldjcbs0ks2l9sptdb8835c0000gn/T/ipykernel_8713/3240098208.py:4: UserWarning: Dataset has 0 variance; skipping density estimate. Pass `warn_singular=False` to disable this warning.\n",
      "  sns.kdeplot(data=hp[hp[var]!='SEWER/SEPTIC INSTALLED'], x='sale_price', hue = var)\n"
     ]
    },
    {
     "data": {
      "text/plain": [
       "<Axes: xlabel='sale_price', ylabel='Density'>"
      ]
     },
     "execution_count": 196,
     "metadata": {},
     "output_type": "execute_result"
    },
    {
     "data": {
      "image/png": "[encoded data removed]",
      "text/plain": [
       "<Figure size 640x480 with 1 Axes>"
      ]
     },
     "metadata": {},
     "output_type": "display_data"
    }
   ],
   "source": [
    "# this one doesn't seem to be very useful either - even though there's no missing data, >99% of the houses have sewer/septic installed\n",
    "# i'm also assuming that avail and available are the same thing, and it's unclear what no perc means\n",
    "# i want to check the distribution of sale prices by this variable before deciding to drop it\n",
    "sns.kdeplot(data=hp[hp[var]!='SEWER/SEPTIC INSTALLED'], x='sale_price', hue = var)"
   ]
  },
  {
   "cell_type": "code",
   "execution_count": 197,
   "metadata": {},
   "outputs": [
    {
     "data": {
      "text/plain": [
       "<Axes: xlabel='sale_price', ylabel='Density'>"
      ]
     },
     "execution_count": 197,
     "metadata": {},
     "output_type": "execute_result"
    },
    {
     "data": {
      "image/png": "[encoded data removed]",
      "text/plain": [
       "<Figure size 640x480 with 1 Axes>"
      ]
     },
     "metadata": {},
     "output_type": "display_data"
    }
   ],
   "source": [
    "sns.kdeplot(data=hp, x='sale_price')"
   ]
  },
  {
   "cell_type": "code",
   "execution_count": 198,
   "metadata": {},
   "outputs": [
    {
     "data": {
      "text/plain": [
       "<Axes: xlabel='log_sale_price', ylabel='Density'>"
      ]
     },
     "execution_count": 198,
     "metadata": {},
     "output_type": "execute_result"
    },
    {
     "data": {
      "image/png": "[encoded data removed]",
      "text/plain": [
       "<Figure size 640x480 with 1 Axes>"
      ]
     },
     "metadata": {},
     "output_type": "display_data"
    }
   ],
   "source": [
    "# also, it's clear from all the other plots that sale_price (the target variable) is not normally distributed and is extremely right skewed\n",
    "# so I'm going to log transform it as well\n",
    "hp['log_sale_price'] = np.log(hp['sale_price'])\n",
    "sns.kdeplot(data=hp, x='log_sale_price')\n",
    "# i'm going to keep this variable, but I want to see how a model does with the original and with the log transformed version"
   ]
  },
  {
   "cell_type": "code",
   "execution_count": 199,
   "metadata": {},
   "outputs": [
    {
     "data": {
      "application/vnd.microsoft.datawrangler.viewer.v0+json": {
       "columns": [
        {
         "name": "index",
         "rawType": "int64",
         "type": "integer"
        },
        {
         "name": "log_sqft",
         "rawType": "float64",
         "type": "float"
        },
        {
         "name": "fireplaces",
         "rawType": "int64",
         "type": "integer"
        },
        {
         "name": "stories",
         "rawType": "int64",
         "type": "integer"
        },
        {
         "name": "year_built",
         "rawType": "int64",
         "type": "integer"
        },
        {
         "name": "bedrooms",
         "rawType": "int64",
         "type": "integer"
        },
        {
         "name": "bathrooms",
         "rawType": "int64",
         "type": "integer"
        },
        {
         "name": "attic_finished_square_feet",
         "rawType": "int64",
         "type": "integer"
        },
        {
         "name": "basement_square_feet",
         "rawType": "int64",
         "type": "integer"
        },
        {
         "name": "attached_garage_square_feet",
         "rawType": "int64",
         "type": "integer"
        },
        {
         "name": "detached_garage_square_feet",
         "rawType": "int64",
         "type": "integer"
        }
       ],
       "conversionMethod": "pd.DataFrame",
       "ref": "7d4a8e5a-fa91-48a8-82f6-a8f0719f97db",
       "rows": [
        [
         "0",
         "7.676473646389156",
         "0",
         "2",
         "1993",
         "3",
         "3",
         "0",
         "0",
         "528",
         "0"
        ],
        [
         "1",
         "7.71333788887187",
         "0",
         "2",
         "2017",
         "4",
         "3",
         "0",
         "0",
         "396",
         "0"
        ],
        [
         "2",
         "7.280697195384741",
         "1",
         "1",
         "1965",
         "3",
         "2",
         "0",
         "0",
         "0",
         "0"
        ],
        [
         "3",
         "6.723832440821209",
         "0",
         "1",
         "1919",
         "2",
         "1",
         "0",
         "0",
         "0",
         "0"
        ],
        [
         "4",
         "7.484368643286131",
         "1",
         "1",
         "1955",
         "3",
         "2",
         "0",
         "384",
         "484",
         "0"
        ]
       ],
       "shape": {
        "columns": 10,
        "rows": 5
       }
      },
      "text/html": [
       "<div>\n",
       "<style scoped>\n",
       "    .dataframe tbody tr th:only-of-type {\n",
       "        vertical-align: middle;\n",
       "    }\n",
       "\n",
       "    .dataframe tbody tr th {\n",
       "        vertical-align: top;\n",
       "    }\n",
       "\n",
       "    .dataframe thead th {\n",
       "        text-align: right;\n",
       "    }\n",
       "</style>\n",
       "<table border=\"1\" class=\"dataframe\">\n",
       "  <thead>\n",
       "    <tr style=\"text-align: right;\">\n",
       "      <th></th>\n",
       "      <th>log_sqft</th>\n",
       "      <th>fireplaces</th>\n",
       "      <th>stories</th>\n",
       "      <th>year_built</th>\n",
       "      <th>bedrooms</th>\n",
       "      <th>bathrooms</th>\n",
       "      <th>attic_finished_square_feet</th>\n",
       "      <th>basement_square_feet</th>\n",
       "      <th>attached_garage_square_feet</th>\n",
       "      <th>detached_garage_square_feet</th>\n",
       "    </tr>\n",
       "  </thead>\n",
       "  <tbody>\n",
       "    <tr>\n",
       "      <th>0</th>\n",
       "      <td>7.676474</td>\n",
       "      <td>0</td>\n",
       "      <td>2</td>\n",
       "      <td>1993</td>\n",
       "      <td>3</td>\n",
       "      <td>3</td>\n",
       "      <td>0</td>\n",
       "      <td>0</td>\n",
       "      <td>528</td>\n",
       "      <td>0</td>\n",
       "    </tr>\n",
       "    <tr>\n",
       "      <th>1</th>\n",
       "      <td>7.713338</td>\n",
       "      <td>0</td>\n",
       "      <td>2</td>\n",
       "      <td>2017</td>\n",
       "      <td>4</td>\n",
       "      <td>3</td>\n",
       "      <td>0</td>\n",
       "      <td>0</td>\n",
       "      <td>396</td>\n",
       "      <td>0</td>\n",
       "    </tr>\n",
       "    <tr>\n",
       "      <th>2</th>\n",
       "      <td>7.280697</td>\n",
       "      <td>1</td>\n",
       "      <td>1</td>\n",
       "      <td>1965</td>\n",
       "      <td>3</td>\n",
       "      <td>2</td>\n",
       "      <td>0</td>\n",
       "      <td>0</td>\n",
       "      <td>0</td>\n",
       "      <td>0</td>\n",
       "    </tr>\n",
       "    <tr>\n",
       "      <th>3</th>\n",
       "      <td>6.723832</td>\n",
       "      <td>0</td>\n",
       "      <td>1</td>\n",
       "      <td>1919</td>\n",
       "      <td>2</td>\n",
       "      <td>1</td>\n",
       "      <td>0</td>\n",
       "      <td>0</td>\n",
       "      <td>0</td>\n",
       "      <td>0</td>\n",
       "    </tr>\n",
       "    <tr>\n",
       "      <th>4</th>\n",
       "      <td>7.484369</td>\n",
       "      <td>1</td>\n",
       "      <td>1</td>\n",
       "      <td>1955</td>\n",
       "      <td>3</td>\n",
       "      <td>2</td>\n",
       "      <td>0</td>\n",
       "      <td>384</td>\n",
       "      <td>484</td>\n",
       "      <td>0</td>\n",
       "    </tr>\n",
       "  </tbody>\n",
       "</table>\n",
       "</div>"
      ],
      "text/plain": [
       "   log_sqft  fireplaces  stories  year_built  bedrooms  bathrooms  \\\n",
       "0  7.676474           0        2        1993         3          3   \n",
       "1  7.713338           0        2        2017         4          3   \n",
       "2  7.280697           1        1        1965         3          2   \n",
       "3  6.723832           0        1        1919         2          1   \n",
       "4  7.484369           1        1        1955         3          2   \n",
       "\n",
       "   attic_finished_square_feet  basement_square_feet  \\\n",
       "0                           0                     0   \n",
       "1                           0                     0   \n",
       "2                           0                     0   \n",
       "3                           0                     0   \n",
       "4                           0                   384   \n",
       "\n",
       "   attached_garage_square_feet  detached_garage_square_feet  \n",
       "0                          528                            0  \n",
       "1                          396                            0  \n",
       "2                            0                            0  \n",
       "3                            0                            0  \n",
       "4                          484                            0  "
      ]
     },
     "execution_count": 199,
     "metadata": {},
     "output_type": "execute_result"
    }
   ],
   "source": [
    "# now that the data is cleaned, I want to concatenate all the variables i'm using into one dataframe\n",
    "model_vars = ['log_sqft', 'fireplaces', 'stories', 'year_built', 'bedrooms', 'bathrooms',\n",
    "               'attic_finished_square_feet','basement_square_feet', 'attached_garage_square_feet', 'detached_garage_square_feet']\n",
    "vars = hp.loc[:, model_vars]\n",
    "vars.head()"
   ]
  },
  {
   "cell_type": "code",
   "execution_count": 200,
   "metadata": {},
   "outputs": [
    {
     "data": {
      "application/vnd.microsoft.datawrangler.viewer.v0+json": {
       "columns": [
        {
         "name": "index",
         "rawType": "int64",
         "type": "integer"
        },
        {
         "name": "log_sqft",
         "rawType": "float64",
         "type": "float"
        },
        {
         "name": "fireplaces",
         "rawType": "float64",
         "type": "float"
        },
        {
         "name": "stories",
         "rawType": "float64",
         "type": "float"
        },
        {
         "name": "year_built",
         "rawType": "float64",
         "type": "float"
        },
        {
         "name": "bedrooms",
         "rawType": "float64",
         "type": "float"
        },
        {
         "name": "bathrooms",
         "rawType": "float64",
         "type": "float"
        },
        {
         "name": "attic_finished_square_feet",
         "rawType": "float64",
         "type": "float"
        },
        {
         "name": "basement_square_feet",
         "rawType": "float64",
         "type": "float"
        },
        {
         "name": "attached_garage_square_feet",
         "rawType": "float64",
         "type": "float"
        },
        {
         "name": "detached_garage_square_feet",
         "rawType": "float64",
         "type": "float"
        },
        {
         "name": "Electric Baseboard",
         "rawType": "bool",
         "type": "boolean"
        },
        {
         "name": "Floor Wall Furnace",
         "rawType": "bool",
         "type": "boolean"
        },
        {
         "name": "Floor/Wall Furnace",
         "rawType": "bool",
         "type": "boolean"
        },
        {
         "name": "Forced Air",
         "rawType": "bool",
         "type": "boolean"
        },
        {
         "name": "Heat Pump",
         "rawType": "bool",
         "type": "boolean"
        },
        {
         "name": "Hot Water Baseboard",
         "rawType": "bool",
         "type": "boolean"
        },
        {
         "name": "No Heat",
         "rawType": "bool",
         "type": "boolean"
        },
        {
         "name": "Warm and Cool Air Zone",
         "rawType": "bool",
         "type": "boolean"
        },
        {
         "name": "Cedar Finished Cabin",
         "rawType": "bool",
         "type": "boolean"
        },
        {
         "name": "Cedar Unfinished Cabin",
         "rawType": "bool",
         "type": "boolean"
        },
        {
         "name": "Finished Cottage",
         "rawType": "bool",
         "type": "boolean"
        },
        {
         "name": "Frame Hardboard",
         "rawType": "bool",
         "type": "boolean"
        },
        {
         "name": "Frame Rustic Log",
         "rawType": "bool",
         "type": "boolean"
        },
        {
         "name": "Frame Siding",
         "rawType": "bool",
         "type": "boolean"
        },
        {
         "name": "Frame Stucco",
         "rawType": "bool",
         "type": "boolean"
        },
        {
         "name": "Frame Vinyl",
         "rawType": "bool",
         "type": "boolean"
        },
        {
         "name": "Log",
         "rawType": "bool",
         "type": "boolean"
        },
        {
         "name": "Masonry Common Brick",
         "rawType": "bool",
         "type": "boolean"
        },
        {
         "name": "Masonry Concrete Block",
         "rawType": "bool",
         "type": "boolean"
        },
        {
         "name": "Pine A-Frame",
         "rawType": "bool",
         "type": "boolean"
        },
        {
         "name": "Pine Finished Cabin",
         "rawType": "bool",
         "type": "boolean"
        },
        {
         "name": "Pine Unfinished Cabin",
         "rawType": "bool",
         "type": "boolean"
        },
        {
         "name": "Unfinished Cottage",
         "rawType": "bool",
         "type": "boolean"
        },
        {
         "name": "Paneling",
         "rawType": "bool",
         "type": "boolean"
        },
        {
         "name": "Composition Shingle",
         "rawType": "object",
         "type": "unknown"
        },
        {
         "name": "Concrete Tile",
         "rawType": "object",
         "type": "unknown"
        },
        {
         "name": "Formed Seam Metal",
         "rawType": "object",
         "type": "unknown"
        },
        {
         "name": "Preformed Metal",
         "rawType": "object",
         "type": "unknown"
        },
        {
         "name": "Wood Shake",
         "rawType": "object",
         "type": "unknown"
        },
        {
         "name": "sale_date",
         "rawType": "datetime64[ns]",
         "type": "datetime"
        },
        {
         "name": "sale_price",
         "rawType": "float64",
         "type": "float"
        },
        {
         "name": "house_square_feet",
         "rawType": "float64",
         "type": "float"
        },
        {
         "name": "attic_finished_square_feet",
         "rawType": "float64",
         "type": "float"
        },
        {
         "name": "basement_square_feet",
         "rawType": "float64",
         "type": "float"
        },
        {
         "name": "attached_garage_square_feet",
         "rawType": "float64",
         "type": "float"
        },
        {
         "name": "detached_garage_square_feet",
         "rawType": "float64",
         "type": "float"
        },
        {
         "name": "fireplaces",
         "rawType": "float64",
         "type": "float"
        },
        {
         "name": "hvac_description",
         "rawType": "object",
         "type": "string"
        },
        {
         "name": "exterior",
         "rawType": "object",
         "type": "string"
        },
        {
         "name": "interior",
         "rawType": "object",
         "type": "string"
        },
        {
         "name": "stories",
         "rawType": "float64",
         "type": "float"
        },
        {
         "name": "roof_cover",
         "rawType": "object",
         "type": "string"
        },
        {
         "name": "year_built",
         "rawType": "float64",
         "type": "float"
        },
        {
         "name": "bedrooms",
         "rawType": "float64",
         "type": "float"
        },
        {
         "name": "bathrooms",
         "rawType": "float64",
         "type": "float"
        },
        {
         "name": "view_quality",
         "rawType": "object",
         "type": "unknown"
        },
        {
         "name": "utility_sewer",
         "rawType": "object",
         "type": "string"
        },
        {
         "name": "log_sqft",
         "rawType": "float64",
         "type": "float"
        },
        {
         "name": "waterfront_type_WF Lake",
         "rawType": "object",
         "type": "unknown"
        },
        {
         "name": "waterfront_type_WF River",
         "rawType": "object",
         "type": "unknown"
        },
        {
         "name": "waterfront_type_WF Salt",
         "rawType": "object",
         "type": "unknown"
        },
        {
         "name": "waterfront_type_WF Stream/Creek",
         "rawType": "object",
         "type": "unknown"
        }
       ],
       "conversionMethod": "pd.DataFrame",
       "ref": "329414a7-25a5-4ed6-8fc5-454a03883d91",
       "rows": [
        [
         "0",
         "7.676473646389156",
         "0.0",
         "2.0",
         "1993.0",
         "3.0",
         "3.0",
         "0.0",
         "0.0",
         "528.0",
         "0.0",
         "False",
         "False",
         "False",
         "False",
         "False",
         "False",
         "False",
         "True",
         "False",
         "False",
         "False",
         "False",
         "False",
         "True",
         "False",
         "False",
         "False",
         "False",
         "False",
         "False",
         "False",
         "False",
         "False",
         "False",
         "True",
         "False",
         "False",
         "False",
         "False",
         "2020-01-02 00:00:00",
         "380000.0",
         "2157.0",
         "0.0",
         "0.0",
         "528.0",
         "0.0",
         "0.0",
         "Warm and Cool Air Zone",
         "Frame Siding",
         "Drywall",
         "2.0",
         "Composition Shingle",
         "1993.0",
         "3.0",
         "3.0",
         null,
         "SEWER/SEPTIC INSTALLED",
         "7.676473646389156",
         "False",
         "False",
         "False",
         "False"
        ],
        [
         "1",
         "7.71333788887187",
         "0.0",
         "2.0",
         "2017.0",
         "4.0",
         "3.0",
         "0.0",
         "0.0",
         "396.0",
         "0.0",
         "False",
         "False",
         "False",
         "True",
         "False",
         "False",
         "False",
         "False",
         "False",
         "False",
         "False",
         "False",
         "False",
         "True",
         "False",
         "False",
         "False",
         "False",
         "False",
         "False",
         "False",
         "False",
         "False",
         "False",
         "True",
         "False",
         "False",
         "False",
         "False",
         "2020-01-02 00:00:00",
         "383000.0",
         "2238.0",
         "0.0",
         "0.0",
         "396.0",
         "0.0",
         "0.0",
         "Forced Air",
         "Frame Siding",
         "Drywall",
         "2.0",
         "Composition Shingle",
         "2017.0",
         "4.0",
         "3.0",
         null,
         "SEWER/SEPTIC INSTALLED",
         "7.71333788887187",
         "False",
         "False",
         "False",
         "False"
        ],
        [
         "2",
         "7.280697195384741",
         "1.0",
         "1.0",
         "1965.0",
         "3.0",
         "2.0",
         "0.0",
         "0.0",
         "0.0",
         "0.0",
         "False",
         "False",
         "False",
         "True",
         "False",
         "False",
         "False",
         "False",
         "False",
         "False",
         "False",
         "False",
         "False",
         "True",
         "False",
         "False",
         "False",
         "False",
         "False",
         "False",
         "False",
         "False",
         "False",
         "False",
         "False",
         "False",
         "False",
         "False",
         "False",
         "2020-01-01 00:00:00",
         "419900.0",
         "1452.0",
         "0.0",
         "0.0",
         "0.0",
         "0.0",
         "1.0",
         "Forced Air",
         "Frame Siding",
         "Drywall",
         "1.0",
         "Built Up Rock",
         "1965.0",
         "3.0",
         "2.0",
         null,
         "SEWER/SEPTIC INSTALLED",
         "7.280697195384741",
         "False",
         "False",
         "False",
         "False"
        ],
        [
         "3",
         "6.723832440821209",
         "0.0",
         "1.0",
         "1919.0",
         "2.0",
         "1.0",
         "0.0",
         "0.0",
         "0.0",
         "0.0",
         "False",
         "False",
         "False",
         "True",
         "False",
         "False",
         "False",
         "False",
         "False",
         "False",
         "False",
         "False",
         "False",
         "False",
         "False",
         "True",
         "False",
         "False",
         "False",
         "False",
         "False",
         "False",
         "False",
         "False",
         "True",
         "False",
         "False",
         "False",
         "False",
         "2020-01-02 00:00:00",
         "251660.0",
         "832.0",
         "0.0",
         "0.0",
         "0.0",
         "0.0",
         "0.0",
         "Forced Air",
         "Frame Vinyl",
         "Drywall",
         "1.0",
         "Composition Shingle",
         "1919.0",
         "2.0",
         "1.0",
         null,
         "SEWER/SEPTIC INSTALLED",
         "6.723832440821209",
         "False",
         "False",
         "False",
         "False"
        ],
        [
         "4",
         "7.484368643286131",
         "1.0",
         "1.0",
         "1955.0",
         "3.0",
         "2.0",
         "0.0",
         "384.0",
         "484.0",
         "0.0",
         "False",
         "False",
         "False",
         "True",
         "False",
         "False",
         "False",
         "False",
         "False",
         "False",
         "False",
         "False",
         "False",
         "True",
         "False",
         "False",
         "False",
         "False",
         "False",
         "False",
         "False",
         "False",
         "False",
         "False",
         "True",
         "False",
         "False",
         "False",
         "False",
         "2020-01-02 00:00:00",
         "500000.0",
         "1780.0",
         "0.0",
         "384.0",
         "484.0",
         "0.0",
         "1.0",
         "Forced Air",
         "Frame Siding",
         "Drywall",
         "1.0",
         "Composition Shingle",
         "1955.0",
         "3.0",
         "2.0",
         null,
         "SEWER/SEPTIC INSTALLED",
         "7.484368643286131",
         "False",
         "False",
         "False",
         "False"
        ]
       ],
       "shape": {
        "columns": 62,
        "rows": 5
       }
      },
      "text/html": [
       "<div>\n",
       "<style scoped>\n",
       "    .dataframe tbody tr th:only-of-type {\n",
       "        vertical-align: middle;\n",
       "    }\n",
       "\n",
       "    .dataframe tbody tr th {\n",
       "        vertical-align: top;\n",
       "    }\n",
       "\n",
       "    .dataframe thead th {\n",
       "        text-align: right;\n",
       "    }\n",
       "</style>\n",
       "<table border=\"1\" class=\"dataframe\">\n",
       "  <thead>\n",
       "    <tr style=\"text-align: right;\">\n",
       "      <th></th>\n",
       "      <th>log_sqft</th>\n",
       "      <th>fireplaces</th>\n",
       "      <th>stories</th>\n",
       "      <th>year_built</th>\n",
       "      <th>bedrooms</th>\n",
       "      <th>bathrooms</th>\n",
       "      <th>attic_finished_square_feet</th>\n",
       "      <th>basement_square_feet</th>\n",
       "      <th>attached_garage_square_feet</th>\n",
       "      <th>detached_garage_square_feet</th>\n",
       "      <th>...</th>\n",
       "      <th>year_built</th>\n",
       "      <th>bedrooms</th>\n",
       "      <th>bathrooms</th>\n",
       "      <th>view_quality</th>\n",
       "      <th>utility_sewer</th>\n",
       "      <th>log_sqft</th>\n",
       "      <th>waterfront_type_WF Lake</th>\n",
       "      <th>waterfront_type_WF River</th>\n",
       "      <th>waterfront_type_WF Salt</th>\n",
       "      <th>waterfront_type_WF Stream/Creek</th>\n",
       "    </tr>\n",
       "  </thead>\n",
       "  <tbody>\n",
       "    <tr>\n",
       "      <th>0</th>\n",
       "      <td>7.676474</td>\n",
       "      <td>0.0</td>\n",
       "      <td>2.0</td>\n",
       "      <td>1993.0</td>\n",
       "      <td>3.0</td>\n",
       "      <td>3.0</td>\n",
       "      <td>0.0</td>\n",
       "      <td>0.0</td>\n",
       "      <td>528.0</td>\n",
       "      <td>0.0</td>\n",
       "      <td>...</td>\n",
       "      <td>1993.0</td>\n",
       "      <td>3.0</td>\n",
       "      <td>3.0</td>\n",
       "      <td>NaN</td>\n",
       "      <td>SEWER/SEPTIC INSTALLED</td>\n",
       "      <td>7.676474</td>\n",
       "      <td>False</td>\n",
       "      <td>False</td>\n",
       "      <td>False</td>\n",
       "      <td>False</td>\n",
       "    </tr>\n",
       "    <tr>\n",
       "      <th>1</th>\n",
       "      <td>7.713338</td>\n",
       "      <td>0.0</td>\n",
       "      <td>2.0</td>\n",
       "      <td>2017.0</td>\n",
       "      <td>4.0</td>\n",
       "      <td>3.0</td>\n",
       "      <td>0.0</td>\n",
       "      <td>0.0</td>\n",
       "      <td>396.0</td>\n",
       "      <td>0.0</td>\n",
       "      <td>...</td>\n",
       "      <td>2017.0</td>\n",
       "      <td>4.0</td>\n",
       "      <td>3.0</td>\n",
       "      <td>NaN</td>\n",
       "      <td>SEWER/SEPTIC INSTALLED</td>\n",
       "      <td>7.713338</td>\n",
       "      <td>False</td>\n",
       "      <td>False</td>\n",
       "      <td>False</td>\n",
       "      <td>False</td>\n",
       "    </tr>\n",
       "    <tr>\n",
       "      <th>2</th>\n",
       "      <td>7.280697</td>\n",
       "      <td>1.0</td>\n",
       "      <td>1.0</td>\n",
       "      <td>1965.0</td>\n",
       "      <td>3.0</td>\n",
       "      <td>2.0</td>\n",
       "      <td>0.0</td>\n",
       "      <td>0.0</td>\n",
       "      <td>0.0</td>\n",
       "      <td>0.0</td>\n",
       "      <td>...</td>\n",
       "      <td>1965.0</td>\n",
       "      <td>3.0</td>\n",
       "      <td>2.0</td>\n",
       "      <td>NaN</td>\n",
       "      <td>SEWER/SEPTIC INSTALLED</td>\n",
       "      <td>7.280697</td>\n",
       "      <td>False</td>\n",
       "      <td>False</td>\n",
       "      <td>False</td>\n",
       "      <td>False</td>\n",
       "    </tr>\n",
       "    <tr>\n",
       "      <th>3</th>\n",
       "      <td>6.723832</td>\n",
       "      <td>0.0</td>\n",
       "      <td>1.0</td>\n",
       "      <td>1919.0</td>\n",
       "      <td>2.0</td>\n",
       "      <td>1.0</td>\n",
       "      <td>0.0</td>\n",
       "      <td>0.0</td>\n",
       "      <td>0.0</td>\n",
       "      <td>0.0</td>\n",
       "      <td>...</td>\n",
       "      <td>1919.0</td>\n",
       "      <td>2.0</td>\n",
       "      <td>1.0</td>\n",
       "      <td>NaN</td>\n",
       "      <td>SEWER/SEPTIC INSTALLED</td>\n",
       "      <td>6.723832</td>\n",
       "      <td>False</td>\n",
       "      <td>False</td>\n",
       "      <td>False</td>\n",
       "      <td>False</td>\n",
       "    </tr>\n",
       "    <tr>\n",
       "      <th>4</th>\n",
       "      <td>7.484369</td>\n",
       "      <td>1.0</td>\n",
       "      <td>1.0</td>\n",
       "      <td>1955.0</td>\n",
       "      <td>3.0</td>\n",
       "      <td>2.0</td>\n",
       "      <td>0.0</td>\n",
       "      <td>384.0</td>\n",
       "      <td>484.0</td>\n",
       "      <td>0.0</td>\n",
       "      <td>...</td>\n",
       "      <td>1955.0</td>\n",
       "      <td>3.0</td>\n",
       "      <td>2.0</td>\n",
       "      <td>NaN</td>\n",
       "      <td>SEWER/SEPTIC INSTALLED</td>\n",
       "      <td>7.484369</td>\n",
       "      <td>False</td>\n",
       "      <td>False</td>\n",
       "      <td>False</td>\n",
       "      <td>False</td>\n",
       "    </tr>\n",
       "  </tbody>\n",
       "</table>\n",
       "<p>5 rows × 62 columns</p>\n",
       "</div>"
      ],
      "text/plain": [
       "   log_sqft  fireplaces  stories  year_built  bedrooms  bathrooms  \\\n",
       "0  7.676474         0.0      2.0      1993.0       3.0        3.0   \n",
       "1  7.713338         0.0      2.0      2017.0       4.0        3.0   \n",
       "2  7.280697         1.0      1.0      1965.0       3.0        2.0   \n",
       "3  6.723832         0.0      1.0      1919.0       2.0        1.0   \n",
       "4  7.484369         1.0      1.0      1955.0       3.0        2.0   \n",
       "\n",
       "   attic_finished_square_feet  basement_square_feet  \\\n",
       "0                         0.0                   0.0   \n",
       "1                         0.0                   0.0   \n",
       "2                         0.0                   0.0   \n",
       "3                         0.0                   0.0   \n",
       "4                         0.0                 384.0   \n",
       "\n",
       "   attached_garage_square_feet  detached_garage_square_feet  ...  year_built  \\\n",
       "0                        528.0                          0.0  ...      1993.0   \n",
       "1                        396.0                          0.0  ...      2017.0   \n",
       "2                          0.0                          0.0  ...      1965.0   \n",
       "3                          0.0                          0.0  ...      1919.0   \n",
       "4                        484.0                          0.0  ...      1955.0   \n",
       "\n",
       "   bedrooms  bathrooms  view_quality           utility_sewer  log_sqft  \\\n",
       "0       3.0        3.0           NaN  SEWER/SEPTIC INSTALLED  7.676474   \n",
       "1       4.0        3.0           NaN  SEWER/SEPTIC INSTALLED  7.713338   \n",
       "2       3.0        2.0           NaN  SEWER/SEPTIC INSTALLED  7.280697   \n",
       "3       2.0        1.0           NaN  SEWER/SEPTIC INSTALLED  6.723832   \n",
       "4       3.0        2.0           NaN  SEWER/SEPTIC INSTALLED  7.484369   \n",
       "\n",
       "   waterfront_type_WF Lake  waterfront_type_WF River  waterfront_type_WF Salt  \\\n",
       "0                    False                     False                    False   \n",
       "1                    False                     False                    False   \n",
       "2                    False                     False                    False   \n",
       "3                    False                     False                    False   \n",
       "4                    False                     False                    False   \n",
       "\n",
       "   waterfront_type_WF Stream/Creek  \n",
       "0                            False  \n",
       "1                            False  \n",
       "2                            False  \n",
       "3                            False  \n",
       "4                            False  \n",
       "\n",
       "[5 rows x 62 columns]"
      ]
     },
     "execution_count": 200,
     "metadata": {},
     "output_type": "execute_result"
    }
   ],
   "source": [
    "X = pd.concat([vars, d_hvac, d_ext, d_int, d_roof, d_water], axis=1)\n",
    "X.head()"
   ]
  },
  {
   "cell_type": "markdown",
   "metadata": {},
   "source": [
    "3. Implement an ~80/~20 train-test split. Put the test data aside."
   ]
  },
  {
   "cell_type": "markdown",
   "metadata": {},
   "source": [
    "4. Build some simple linear models that include no transformations or interactions. Fit them, and determine their RMSE and $R^2$ on the both the training and test sets. Which of your models does the best?\n"
   ]
  },
  {
   "cell_type": "markdown",
   "metadata": {},
   "source": [
    "5. Make partial correlation plots for each of the numeric variables in your model. Do you notice any significant non-linearities? \n"
   ]
  },
  {
   "cell_type": "markdown",
   "metadata": {},
   "source": [
    "6. Include transformations and interactions of your variables, and build a more complex model that reflects your ideas about how the features of the asset determine its value. Determine its RMSE and $R^2$ on the training and test sets. How does the more complex model your build compare to the simpler ones?\n"
   ]
  },
  {
   "cell_type": "markdown",
   "metadata": {},
   "source": [
    "7. Summarize your results from 1 to 6. Have you learned anything about overfitting and underfitting, or model selection?\n"
   ]
  },
  {
   "cell_type": "markdown",
   "metadata": {},
   "source": [
    "8. If you have time, use the sklearn.linear_model.Lasso to regularize your model and select the most predictive features. Which does it select? What are the RMSE and $R^2$? We'll cover the Lasso later in detail in class."
   ]
  }
 ],
 "metadata": {
  "kernelspec": {
   "display_name": "myenv",
   "language": "python",
   "name": "python3"
  },
  "language_info": {
   "codemirror_mode": {
    "name": "ipython",
    "version": 3
   },
   "file_extension": ".py",
   "mimetype": "text/x-python",
   "name": "python",
   "nbconvert_exporter": "python",
   "pygments_lexer": "ipython3",
   "version": "3.13.2"
  }
 },
 "nbformat": 4,
 "nbformat_minor": 2
}
